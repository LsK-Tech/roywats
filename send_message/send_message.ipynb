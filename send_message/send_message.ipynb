{
 "cells": [
  {
   "cell_type": "code",
   "execution_count": 1,
   "metadata": {},
   "outputs": [],
   "source": [
    "import requests\n",
    "import pandas as pd"
   ]
  },
  {
   "cell_type": "code",
   "execution_count": null,
   "metadata": {},
   "outputs": [],
   "source": []
  },
  {
   "cell_type": "code",
   "execution_count": 16,
   "metadata": {},
   "outputs": [
    {
     "name": "stdout",
     "output_type": "stream",
     "text": [
      "200\n",
      "{\"mensagem\":\"Mensagem enviada\"}\n"
     ]
    }
   ],
   "source": [
    "message = \"Testando disparo... Automatizado.\"\n",
    "\n",
    "url = \"https://api.roywats.site/api/messages/send\"\n",
    "headers = {\"Authorization\":\"teste01\", \"Content-Type\":\"application/json\"}\n",
    "info = {\"number\":\"557598837676\",\"body\":f\"{message}\"}\n",
    "request = requests.post(url, json=info, headers=headers)\n",
    "\n",
    "print(request.status_code)\n",
    "print(request.text)"
   ]
  }
 ],
 "metadata": {
  "kernelspec": {
   "display_name": "Python 3",
   "language": "python",
   "name": "python3"
  },
  "language_info": {
   "codemirror_mode": {
    "name": "ipython",
    "version": 3
   },
   "file_extension": ".py",
   "mimetype": "text/x-python",
   "name": "python",
   "nbconvert_exporter": "python",
   "pygments_lexer": "ipython3",
   "version": "3.11.4"
  }
 },
 "nbformat": 4,
 "nbformat_minor": 2
}
